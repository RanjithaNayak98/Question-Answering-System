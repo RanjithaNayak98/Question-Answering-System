{
  "nbformat": 4,
  "nbformat_minor": 0,
  "metadata": {
    "colab": {
      "name": "final.ipynb",
      "provenance": [],
      "collapsed_sections": []
    },
    "kernelspec": {
      "name": "python3",
      "display_name": "Python 3"
    }
  },
  "cells": [
    {
      "cell_type": "markdown",
      "metadata": {
        "id": "finiQnC-WjlM",
        "colab_type": "text"
      },
      "source": [
        "Mount the drive to load the files"
      ]
    },
    {
      "cell_type": "code",
      "metadata": {
        "id": "elT-gaP5Wg8S",
        "colab_type": "code",
        "outputId": "8835f1f3-868d-496d-b0d3-c7e9efbc71fa",
        "colab": {
          "base_uri": "https://localhost:8080/",
          "height": 55
        }
      },
      "source": [
        "from google.colab import drive\n",
        "drive.mount('/content/gdrive')"
      ],
      "execution_count": 0,
      "outputs": [
        {
          "output_type": "stream",
          "text": [
            "Drive already mounted at /content/gdrive; to attempt to forcibly remount, call drive.mount(\"/content/gdrive\", force_remount=True).\n"
          ],
          "name": "stdout"
        }
      ]
    },
    {
      "cell_type": "markdown",
      "metadata": {
        "id": "7iYmEz4qWvd0",
        "colab_type": "text"
      },
      "source": [
        "Change the directory to the required folder"
      ]
    },
    {
      "cell_type": "code",
      "metadata": {
        "id": "5bVfp62bIRTa",
        "colab_type": "code",
        "colab": {}
      },
      "source": [
        "import os\n",
        "os.chdir('/content/gdrive/My Drive/finalYearProject')\n"
      ],
      "execution_count": 0,
      "outputs": []
    },
    {
      "cell_type": "markdown",
      "metadata": {
        "id": "9gLfANt2Xmpe",
        "colab_type": "text"
      },
      "source": [
        "Install the requirements"
      ]
    },
    {
      "cell_type": "code",
      "metadata": {
        "id": "TuRE453lKqwZ",
        "colab_type": "code",
        "outputId": "b8835ac8-66b3-49f6-ae4b-a52647ea2795",
        "colab": {
          "base_uri": "https://localhost:8080/",
          "height": 540
        }
      },
      "source": [
        "!pip install -r requirements.txt"
      ],
      "execution_count": 0,
      "outputs": [
        {
          "output_type": "stream",
          "text": [
            "Requirement already satisfied: pytorch-transformers==1.0.0 in /usr/local/lib/python3.6/dist-packages (from -r requirements.txt (line 1)) (1.0.0)\n",
            "Requirement already satisfied: Flask==1.1.1 in /usr/local/lib/python3.6/dist-packages (from -r requirements.txt (line 2)) (1.1.1)\n",
            "Requirement already satisfied: Flask-Cors==3.0.8 in /usr/local/lib/python3.6/dist-packages (from -r requirements.txt (line 3)) (3.0.8)\n",
            "Requirement already satisfied: nltk in /usr/local/lib/python3.6/dist-packages (from -r requirements.txt (line 4)) (3.2.5)\n",
            "Requirement already satisfied: flask-ngrok in /usr/local/lib/python3.6/dist-packages (from -r requirements.txt (line 5)) (0.0.25)\n",
            "Requirement already satisfied: flask_sqlalchemy in /usr/local/lib/python3.6/dist-packages (from -r requirements.txt (line 6)) (2.4.1)\n",
            "Requirement already satisfied: sqlalchemy in /usr/local/lib/python3.6/dist-packages (from -r requirements.txt (line 7)) (1.3.16)\n",
            "Requirement already satisfied: torch>=0.4.1 in /usr/local/lib/python3.6/dist-packages (from pytorch-transformers==1.0.0->-r requirements.txt (line 1)) (1.4.0)\n",
            "Requirement already satisfied: regex in /usr/local/lib/python3.6/dist-packages (from pytorch-transformers==1.0.0->-r requirements.txt (line 1)) (2019.12.20)\n",
            "Requirement already satisfied: sentencepiece in /usr/local/lib/python3.6/dist-packages (from pytorch-transformers==1.0.0->-r requirements.txt (line 1)) (0.1.85)\n",
            "Requirement already satisfied: boto3 in /usr/local/lib/python3.6/dist-packages (from pytorch-transformers==1.0.0->-r requirements.txt (line 1)) (1.12.39)\n",
            "Requirement already satisfied: requests in /usr/local/lib/python3.6/dist-packages (from pytorch-transformers==1.0.0->-r requirements.txt (line 1)) (2.21.0)\n",
            "Requirement already satisfied: tqdm in /usr/local/lib/python3.6/dist-packages (from pytorch-transformers==1.0.0->-r requirements.txt (line 1)) (4.38.0)\n",
            "Requirement already satisfied: numpy in /usr/local/lib/python3.6/dist-packages (from pytorch-transformers==1.0.0->-r requirements.txt (line 1)) (1.18.2)\n",
            "Requirement already satisfied: Jinja2>=2.10.1 in /usr/local/lib/python3.6/dist-packages (from Flask==1.1.1->-r requirements.txt (line 2)) (2.11.2)\n",
            "Requirement already satisfied: Werkzeug>=0.15 in /usr/local/lib/python3.6/dist-packages (from Flask==1.1.1->-r requirements.txt (line 2)) (1.0.1)\n",
            "Requirement already satisfied: itsdangerous>=0.24 in /usr/local/lib/python3.6/dist-packages (from Flask==1.1.1->-r requirements.txt (line 2)) (1.1.0)\n",
            "Requirement already satisfied: click>=5.1 in /usr/local/lib/python3.6/dist-packages (from Flask==1.1.1->-r requirements.txt (line 2)) (7.1.1)\n",
            "Requirement already satisfied: Six in /usr/local/lib/python3.6/dist-packages (from Flask-Cors==3.0.8->-r requirements.txt (line 3)) (1.12.0)\n",
            "Requirement already satisfied: jmespath<1.0.0,>=0.7.1 in /usr/local/lib/python3.6/dist-packages (from boto3->pytorch-transformers==1.0.0->-r requirements.txt (line 1)) (0.9.5)\n",
            "Requirement already satisfied: botocore<1.16.0,>=1.15.39 in /usr/local/lib/python3.6/dist-packages (from boto3->pytorch-transformers==1.0.0->-r requirements.txt (line 1)) (1.15.39)\n",
            "Requirement already satisfied: s3transfer<0.4.0,>=0.3.0 in /usr/local/lib/python3.6/dist-packages (from boto3->pytorch-transformers==1.0.0->-r requirements.txt (line 1)) (0.3.3)\n",
            "Requirement already satisfied: certifi>=2017.4.17 in /usr/local/lib/python3.6/dist-packages (from requests->pytorch-transformers==1.0.0->-r requirements.txt (line 1)) (2020.4.5.1)\n",
            "Requirement already satisfied: urllib3<1.25,>=1.21.1 in /usr/local/lib/python3.6/dist-packages (from requests->pytorch-transformers==1.0.0->-r requirements.txt (line 1)) (1.24.3)\n",
            "Requirement already satisfied: chardet<3.1.0,>=3.0.2 in /usr/local/lib/python3.6/dist-packages (from requests->pytorch-transformers==1.0.0->-r requirements.txt (line 1)) (3.0.4)\n",
            "Requirement already satisfied: idna<2.9,>=2.5 in /usr/local/lib/python3.6/dist-packages (from requests->pytorch-transformers==1.0.0->-r requirements.txt (line 1)) (2.8)\n",
            "Requirement already satisfied: MarkupSafe>=0.23 in /usr/local/lib/python3.6/dist-packages (from Jinja2>=2.10.1->Flask==1.1.1->-r requirements.txt (line 2)) (1.1.1)\n",
            "Requirement already satisfied: docutils<0.16,>=0.10 in /usr/local/lib/python3.6/dist-packages (from botocore<1.16.0,>=1.15.39->boto3->pytorch-transformers==1.0.0->-r requirements.txt (line 1)) (0.15.2)\n",
            "Requirement already satisfied: python-dateutil<3.0.0,>=2.1 in /usr/local/lib/python3.6/dist-packages (from botocore<1.16.0,>=1.15.39->boto3->pytorch-transformers==1.0.0->-r requirements.txt (line 1)) (2.8.1)\n"
          ],
          "name": "stdout"
        }
      ]
    },
    {
      "cell_type": "markdown",
      "metadata": {
        "id": "kl2dgiuLDB7-",
        "colab_type": "text"
      },
      "source": [
        "Run the file"
      ]
    },
    {
      "cell_type": "code",
      "metadata": {
        "id": "4rGFbAWGMNPg",
        "colab_type": "code",
        "outputId": "a5211339-5e34-47fa-dc08-632a9ba51fa1",
        "colab": {
          "base_uri": "https://localhost:8080/",
          "height": 644
        }
      },
      "source": [
        "!python api.py"
      ],
      "execution_count": 0,
      "outputs": [
        {
          "output_type": "stream",
          "text": [
            "[nltk_data] Downloading package wordnet to /root/nltk_data...\n",
            "[nltk_data]   Package wordnet is already up-to-date!\n",
            "[nltk_data] Downloading package punkt to /root/nltk_data...\n",
            "[nltk_data]   Package punkt is already up-to-date!\n",
            "[nltk_data] Downloading package stopwords to /root/nltk_data...\n",
            "[nltk_data]   Package stopwords is already up-to-date!\n",
            " * Serving Flask app \"api\" (lazy loading)\n",
            " * Environment: production\n",
            "\u001b[31m   WARNING: This is a development server. Do not use it in a production deployment.\u001b[0m\n",
            "\u001b[2m   Use a production WSGI server instead.\u001b[0m\n",
            " * Debug mode: off\n",
            " * Running on http://127.0.0.1:5000/ (Press CTRL+C to quit)\n",
            " * Running on http://bc844680.ngrok.io\n",
            " * Traffic stats available on http://127.0.0.1:4040\n",
            "127.0.0.1 - - [18/Apr/2020 07:31:24] \"\u001b[37mGET / HTTP/1.1\u001b[0m\" 200 -\n",
            "127.0.0.1 - - [18/Apr/2020 07:31:25] \"\u001b[33mGET /favicon.ico HTTP/1.1\u001b[0m\" 404 -\n",
            "question in predict []\n",
            "/usr/local/lib/python3.6/dist-packages/gensim/matutils.py:737: FutureWarning: Conversion of the second argument of issubdtype from `int` to `np.signedinteger` is deprecated. In future, it will be treated as `np.int64 == np.dtype(int).type`.\n",
            "  if np.issubdtype(vec.dtype, np.int):\n",
            "127.0.0.1 - - [18/Apr/2020 07:32:04] \"\u001b[37mPOST /predict HTTP/1.1\u001b[0m\" 200 -\n",
            "question in predict []\n",
            "127.0.0.1 - - [18/Apr/2020 07:34:01] \"\u001b[37mPOST /predict HTTP/1.1\u001b[0m\" 200 -\n",
            "Error in atexit._run_exitfuncs:\n",
            "Traceback (most recent call last):\n",
            "  File \"/usr/lib/python3.6/logging/__init__.py\", line 1945, in shutdown\n",
            "    h.flush()\n",
            "  File \"/usr/lib/python3.6/logging/__init__.py\", line 977, in flush\n",
            "    if self.stream and hasattr(self.stream, \"flush\"):\n",
            "  File \"/usr/local/lib/python3.6/dist-packages/werkzeug/local.py\", line 328, in __bool__\n",
            "    return bool(self._get_current_object())\n",
            "  File \"/usr/local/lib/python3.6/dist-packages/werkzeug/local.py\", line 306, in _get_current_object\n",
            "    return self.__local()\n",
            "  File \"/usr/local/lib/python3.6/dist-packages/flask/logging.py\", line 30, in wsgi_errors_stream\n",
            "    return request.environ[\"wsgi.errors\"] if request else sys.stderr\n",
            "KeyboardInterrupt\n"
          ],
          "name": "stdout"
        }
      ]
    }
  ]
}